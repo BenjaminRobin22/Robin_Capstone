{
 "cells": [
  {
   "cell_type": "code",
   "execution_count": 5,
   "metadata": {},
   "outputs": [
    {
     "data": {
      "text/html": [
       "<div>\n",
       "<style scoped>\n",
       "    .dataframe tbody tr th:only-of-type {\n",
       "        vertical-align: middle;\n",
       "    }\n",
       "\n",
       "    .dataframe tbody tr th {\n",
       "        vertical-align: top;\n",
       "    }\n",
       "\n",
       "    .dataframe thead th {\n",
       "        text-align: right;\n",
       "    }\n",
       "</style>\n",
       "<table border=\"1\" class=\"dataframe\">\n",
       "  <thead>\n",
       "    <tr style=\"text-align: right;\">\n",
       "      <th></th>\n",
       "      <th>Country</th>\n",
       "      <th>Year</th>\n",
       "      <th>Status</th>\n",
       "      <th>Life expectancy</th>\n",
       "      <th>Adult Mortality</th>\n",
       "      <th>infant deaths</th>\n",
       "      <th>Alcohol</th>\n",
       "      <th>percentage expenditure</th>\n",
       "      <th>Hepatitis B</th>\n",
       "      <th>Measles</th>\n",
       "      <th>...</th>\n",
       "      <th>Polio</th>\n",
       "      <th>Total expenditure</th>\n",
       "      <th>Diphtheria</th>\n",
       "      <th>HIV/AIDS</th>\n",
       "      <th>GDP</th>\n",
       "      <th>Population</th>\n",
       "      <th>thinness  1-19 years</th>\n",
       "      <th>thinness 5-9 years</th>\n",
       "      <th>Income composition of resources</th>\n",
       "      <th>Schooling</th>\n",
       "    </tr>\n",
       "  </thead>\n",
       "  <tbody>\n",
       "    <tr>\n",
       "      <th>0</th>\n",
       "      <td>Afghanistan</td>\n",
       "      <td>2015</td>\n",
       "      <td>Developing</td>\n",
       "      <td>65.0</td>\n",
       "      <td>263.0</td>\n",
       "      <td>62</td>\n",
       "      <td>0.01</td>\n",
       "      <td>71.279624</td>\n",
       "      <td>65.0</td>\n",
       "      <td>1154</td>\n",
       "      <td>...</td>\n",
       "      <td>6.0</td>\n",
       "      <td>8.16</td>\n",
       "      <td>65.0</td>\n",
       "      <td>0.1</td>\n",
       "      <td>584.259210</td>\n",
       "      <td>33736494.0</td>\n",
       "      <td>17.2</td>\n",
       "      <td>17.3</td>\n",
       "      <td>0.479</td>\n",
       "      <td>10.1</td>\n",
       "    </tr>\n",
       "    <tr>\n",
       "      <th>1</th>\n",
       "      <td>Afghanistan</td>\n",
       "      <td>2014</td>\n",
       "      <td>Developing</td>\n",
       "      <td>59.9</td>\n",
       "      <td>271.0</td>\n",
       "      <td>64</td>\n",
       "      <td>0.01</td>\n",
       "      <td>73.523582</td>\n",
       "      <td>62.0</td>\n",
       "      <td>492</td>\n",
       "      <td>...</td>\n",
       "      <td>58.0</td>\n",
       "      <td>8.18</td>\n",
       "      <td>62.0</td>\n",
       "      <td>0.1</td>\n",
       "      <td>612.696514</td>\n",
       "      <td>327582.0</td>\n",
       "      <td>17.5</td>\n",
       "      <td>17.5</td>\n",
       "      <td>0.476</td>\n",
       "      <td>10.0</td>\n",
       "    </tr>\n",
       "    <tr>\n",
       "      <th>2</th>\n",
       "      <td>Afghanistan</td>\n",
       "      <td>2013</td>\n",
       "      <td>Developing</td>\n",
       "      <td>59.9</td>\n",
       "      <td>268.0</td>\n",
       "      <td>66</td>\n",
       "      <td>0.01</td>\n",
       "      <td>73.219243</td>\n",
       "      <td>64.0</td>\n",
       "      <td>430</td>\n",
       "      <td>...</td>\n",
       "      <td>62.0</td>\n",
       "      <td>8.13</td>\n",
       "      <td>64.0</td>\n",
       "      <td>0.1</td>\n",
       "      <td>631.744976</td>\n",
       "      <td>31731688.0</td>\n",
       "      <td>17.7</td>\n",
       "      <td>17.7</td>\n",
       "      <td>0.470</td>\n",
       "      <td>9.9</td>\n",
       "    </tr>\n",
       "    <tr>\n",
       "      <th>3</th>\n",
       "      <td>Afghanistan</td>\n",
       "      <td>2012</td>\n",
       "      <td>Developing</td>\n",
       "      <td>59.5</td>\n",
       "      <td>272.0</td>\n",
       "      <td>69</td>\n",
       "      <td>0.01</td>\n",
       "      <td>78.184215</td>\n",
       "      <td>67.0</td>\n",
       "      <td>2787</td>\n",
       "      <td>...</td>\n",
       "      <td>67.0</td>\n",
       "      <td>8.52</td>\n",
       "      <td>67.0</td>\n",
       "      <td>0.1</td>\n",
       "      <td>669.959000</td>\n",
       "      <td>3696958.0</td>\n",
       "      <td>17.9</td>\n",
       "      <td>18.0</td>\n",
       "      <td>0.463</td>\n",
       "      <td>9.8</td>\n",
       "    </tr>\n",
       "    <tr>\n",
       "      <th>4</th>\n",
       "      <td>Afghanistan</td>\n",
       "      <td>2011</td>\n",
       "      <td>Developing</td>\n",
       "      <td>59.2</td>\n",
       "      <td>275.0</td>\n",
       "      <td>71</td>\n",
       "      <td>0.01</td>\n",
       "      <td>7.097109</td>\n",
       "      <td>68.0</td>\n",
       "      <td>3013</td>\n",
       "      <td>...</td>\n",
       "      <td>68.0</td>\n",
       "      <td>7.87</td>\n",
       "      <td>68.0</td>\n",
       "      <td>0.1</td>\n",
       "      <td>63.537231</td>\n",
       "      <td>2978599.0</td>\n",
       "      <td>18.2</td>\n",
       "      <td>18.2</td>\n",
       "      <td>0.454</td>\n",
       "      <td>9.5</td>\n",
       "    </tr>\n",
       "  </tbody>\n",
       "</table>\n",
       "<p>5 rows × 22 columns</p>\n",
       "</div>"
      ],
      "text/plain": [
       "       Country  Year      Status  Life expectancy   Adult Mortality  \\\n",
       "0  Afghanistan  2015  Developing              65.0            263.0   \n",
       "1  Afghanistan  2014  Developing              59.9            271.0   \n",
       "2  Afghanistan  2013  Developing              59.9            268.0   \n",
       "3  Afghanistan  2012  Developing              59.5            272.0   \n",
       "4  Afghanistan  2011  Developing              59.2            275.0   \n",
       "\n",
       "   infant deaths  Alcohol  percentage expenditure  Hepatitis B  Measles   ...  \\\n",
       "0             62     0.01               71.279624         65.0      1154  ...   \n",
       "1             64     0.01               73.523582         62.0       492  ...   \n",
       "2             66     0.01               73.219243         64.0       430  ...   \n",
       "3             69     0.01               78.184215         67.0      2787  ...   \n",
       "4             71     0.01                7.097109         68.0      3013  ...   \n",
       "\n",
       "   Polio  Total expenditure  Diphtheria    HIV/AIDS         GDP  Population  \\\n",
       "0    6.0               8.16         65.0        0.1  584.259210  33736494.0   \n",
       "1   58.0               8.18         62.0        0.1  612.696514    327582.0   \n",
       "2   62.0               8.13         64.0        0.1  631.744976  31731688.0   \n",
       "3   67.0               8.52         67.0        0.1  669.959000   3696958.0   \n",
       "4   68.0               7.87         68.0        0.1   63.537231   2978599.0   \n",
       "\n",
       "    thinness  1-19 years   thinness 5-9 years  \\\n",
       "0                   17.2                 17.3   \n",
       "1                   17.5                 17.5   \n",
       "2                   17.7                 17.7   \n",
       "3                   17.9                 18.0   \n",
       "4                   18.2                 18.2   \n",
       "\n",
       "   Income composition of resources  Schooling  \n",
       "0                            0.479       10.1  \n",
       "1                            0.476       10.0  \n",
       "2                            0.470        9.9  \n",
       "3                            0.463        9.8  \n",
       "4                            0.454        9.5  \n",
       "\n",
       "[5 rows x 22 columns]"
      ]
     },
     "execution_count": 5,
     "metadata": {},
     "output_type": "execute_result"
    }
   ],
   "source": [
    "import pandas as pd\n",
    "\n",
    "# bringing in my CSV file\n",
    "file_path = 'Life Expectancy Data.csv'\n",
    "\n",
    "#Load the data into a DataFrame\n",
    "df= pd.read_csv(file_path)\n",
    "\n",
    "# Display the first few rows to verify the import\n",
    "df.head()\n"
   ]
  },
  {
   "cell_type": "code",
   "execution_count": 6,
   "metadata": {},
   "outputs": [
    {
     "data": {
      "text/html": [
       "<div>\n",
       "<style scoped>\n",
       "    .dataframe tbody tr th:only-of-type {\n",
       "        vertical-align: middle;\n",
       "    }\n",
       "\n",
       "    .dataframe tbody tr th {\n",
       "        vertical-align: top;\n",
       "    }\n",
       "\n",
       "    .dataframe thead th {\n",
       "        text-align: right;\n",
       "    }\n",
       "</style>\n",
       "<table border=\"1\" class=\"dataframe\">\n",
       "  <thead>\n",
       "    <tr style=\"text-align: right;\">\n",
       "      <th></th>\n",
       "      <th>Country</th>\n",
       "      <th>Year</th>\n",
       "      <th>Status</th>\n",
       "      <th>Life expectancy</th>\n",
       "      <th>Adult Mortality</th>\n",
       "      <th>infant deaths</th>\n",
       "      <th>Alcohol</th>\n",
       "      <th>percentage expenditure</th>\n",
       "      <th>Hepatitis B</th>\n",
       "      <th>Measles</th>\n",
       "      <th>...</th>\n",
       "      <th>Diphtheria</th>\n",
       "      <th>HIV/AIDS</th>\n",
       "      <th>GDP</th>\n",
       "      <th>Population</th>\n",
       "      <th>thinness  1-19 years</th>\n",
       "      <th>thinness 5-9 years</th>\n",
       "      <th>Income composition of resources</th>\n",
       "      <th>Schooling</th>\n",
       "      <th>region</th>\n",
       "      <th>sub-region</th>\n",
       "    </tr>\n",
       "  </thead>\n",
       "  <tbody>\n",
       "    <tr>\n",
       "      <th>0</th>\n",
       "      <td>Afghanistan</td>\n",
       "      <td>2015</td>\n",
       "      <td>Developing</td>\n",
       "      <td>65.0</td>\n",
       "      <td>263.0</td>\n",
       "      <td>62</td>\n",
       "      <td>0.01</td>\n",
       "      <td>71.279624</td>\n",
       "      <td>65.0</td>\n",
       "      <td>1154</td>\n",
       "      <td>...</td>\n",
       "      <td>65.0</td>\n",
       "      <td>0.1</td>\n",
       "      <td>584.259210</td>\n",
       "      <td>33736494.0</td>\n",
       "      <td>17.2</td>\n",
       "      <td>17.3</td>\n",
       "      <td>0.479</td>\n",
       "      <td>10.1</td>\n",
       "      <td>Asia</td>\n",
       "      <td>Southern Asia</td>\n",
       "    </tr>\n",
       "    <tr>\n",
       "      <th>1</th>\n",
       "      <td>Afghanistan</td>\n",
       "      <td>2014</td>\n",
       "      <td>Developing</td>\n",
       "      <td>59.9</td>\n",
       "      <td>271.0</td>\n",
       "      <td>64</td>\n",
       "      <td>0.01</td>\n",
       "      <td>73.523582</td>\n",
       "      <td>62.0</td>\n",
       "      <td>492</td>\n",
       "      <td>...</td>\n",
       "      <td>62.0</td>\n",
       "      <td>0.1</td>\n",
       "      <td>612.696514</td>\n",
       "      <td>327582.0</td>\n",
       "      <td>17.5</td>\n",
       "      <td>17.5</td>\n",
       "      <td>0.476</td>\n",
       "      <td>10.0</td>\n",
       "      <td>Asia</td>\n",
       "      <td>Southern Asia</td>\n",
       "    </tr>\n",
       "    <tr>\n",
       "      <th>2</th>\n",
       "      <td>Afghanistan</td>\n",
       "      <td>2013</td>\n",
       "      <td>Developing</td>\n",
       "      <td>59.9</td>\n",
       "      <td>268.0</td>\n",
       "      <td>66</td>\n",
       "      <td>0.01</td>\n",
       "      <td>73.219243</td>\n",
       "      <td>64.0</td>\n",
       "      <td>430</td>\n",
       "      <td>...</td>\n",
       "      <td>64.0</td>\n",
       "      <td>0.1</td>\n",
       "      <td>631.744976</td>\n",
       "      <td>31731688.0</td>\n",
       "      <td>17.7</td>\n",
       "      <td>17.7</td>\n",
       "      <td>0.470</td>\n",
       "      <td>9.9</td>\n",
       "      <td>Asia</td>\n",
       "      <td>Southern Asia</td>\n",
       "    </tr>\n",
       "    <tr>\n",
       "      <th>3</th>\n",
       "      <td>Afghanistan</td>\n",
       "      <td>2012</td>\n",
       "      <td>Developing</td>\n",
       "      <td>59.5</td>\n",
       "      <td>272.0</td>\n",
       "      <td>69</td>\n",
       "      <td>0.01</td>\n",
       "      <td>78.184215</td>\n",
       "      <td>67.0</td>\n",
       "      <td>2787</td>\n",
       "      <td>...</td>\n",
       "      <td>67.0</td>\n",
       "      <td>0.1</td>\n",
       "      <td>669.959000</td>\n",
       "      <td>3696958.0</td>\n",
       "      <td>17.9</td>\n",
       "      <td>18.0</td>\n",
       "      <td>0.463</td>\n",
       "      <td>9.8</td>\n",
       "      <td>Asia</td>\n",
       "      <td>Southern Asia</td>\n",
       "    </tr>\n",
       "    <tr>\n",
       "      <th>4</th>\n",
       "      <td>Afghanistan</td>\n",
       "      <td>2011</td>\n",
       "      <td>Developing</td>\n",
       "      <td>59.2</td>\n",
       "      <td>275.0</td>\n",
       "      <td>71</td>\n",
       "      <td>0.01</td>\n",
       "      <td>7.097109</td>\n",
       "      <td>68.0</td>\n",
       "      <td>3013</td>\n",
       "      <td>...</td>\n",
       "      <td>68.0</td>\n",
       "      <td>0.1</td>\n",
       "      <td>63.537231</td>\n",
       "      <td>2978599.0</td>\n",
       "      <td>18.2</td>\n",
       "      <td>18.2</td>\n",
       "      <td>0.454</td>\n",
       "      <td>9.5</td>\n",
       "      <td>Asia</td>\n",
       "      <td>Southern Asia</td>\n",
       "    </tr>\n",
       "  </tbody>\n",
       "</table>\n",
       "<p>5 rows × 24 columns</p>\n",
       "</div>"
      ],
      "text/plain": [
       "       Country  Year      Status  Life expectancy   Adult Mortality  \\\n",
       "0  Afghanistan  2015  Developing              65.0            263.0   \n",
       "1  Afghanistan  2014  Developing              59.9            271.0   \n",
       "2  Afghanistan  2013  Developing              59.9            268.0   \n",
       "3  Afghanistan  2012  Developing              59.5            272.0   \n",
       "4  Afghanistan  2011  Developing              59.2            275.0   \n",
       "\n",
       "   infant deaths  Alcohol  percentage expenditure  Hepatitis B  Measles   ...  \\\n",
       "0             62     0.01               71.279624         65.0      1154  ...   \n",
       "1             64     0.01               73.523582         62.0       492  ...   \n",
       "2             66     0.01               73.219243         64.0       430  ...   \n",
       "3             69     0.01               78.184215         67.0      2787  ...   \n",
       "4             71     0.01                7.097109         68.0      3013  ...   \n",
       "\n",
       "   Diphtheria    HIV/AIDS         GDP  Population   thinness  1-19 years  \\\n",
       "0         65.0        0.1  584.259210  33736494.0                   17.2   \n",
       "1         62.0        0.1  612.696514    327582.0                   17.5   \n",
       "2         64.0        0.1  631.744976  31731688.0                   17.7   \n",
       "3         67.0        0.1  669.959000   3696958.0                   17.9   \n",
       "4         68.0        0.1   63.537231   2978599.0                   18.2   \n",
       "\n",
       "    thinness 5-9 years  Income composition of resources  Schooling  region  \\\n",
       "0                 17.3                            0.479       10.1    Asia   \n",
       "1                 17.5                            0.476       10.0    Asia   \n",
       "2                 17.7                            0.470        9.9    Asia   \n",
       "3                 18.0                            0.463        9.8    Asia   \n",
       "4                 18.2                            0.454        9.5    Asia   \n",
       "\n",
       "      sub-region  \n",
       "0  Southern Asia  \n",
       "1  Southern Asia  \n",
       "2  Southern Asia  \n",
       "3  Southern Asia  \n",
       "4  Southern Asia  \n",
       "\n",
       "[5 rows x 24 columns]"
      ]
     },
     "execution_count": 6,
     "metadata": {},
     "output_type": "execute_result"
    }
   ],
   "source": [
    "# Load the Life Expectancy Data.csv file\n",
    "life_expectancy_file_path = 'Life Expectancy Data.csv'\n",
    "life_expectancy_df = pd.read_csv(life_expectancy_file_path)\n",
    "\n",
    "# Load the All.csv file\n",
    "all_file_path = 'All.csv'\n",
    "all_df = pd.read_csv(all_file_path)\n",
    "\n",
    "# Merge the two DataFrames on 'Country' and 'name'\n",
    "merged_df = life_expectancy_df.merge(all_df[['name', 'region', 'sub-region']], \n",
    "                                     left_on='Country', \n",
    "                                     right_on='name', \n",
    "                                     how='left')\n",
    "\n",
    "# Drop the redundant 'name' column from the merged DataFrame\n",
    "merged_df = merged_df.drop(columns=['name'])\n",
    "\n",
    "# Display the first few rows of the merged DataFrame to verify the join\n",
    "merged_df.head()"
   ]
  },
  {
   "cell_type": "code",
   "execution_count": 44,
   "metadata": {},
   "outputs": [
    {
     "name": "stdout",
     "output_type": "stream",
     "text": [
      "DataFrame shape after dropping countries: (2928, 24)\n"
     ]
    }
   ],
   "source": [
    "# Small Coutries with only one year of data will can many missing values need to be dropped here is the list.  \n",
    "countries_to_drop = [\n",
    "    'Cook Islands', 'Dominica', 'Marshall Islands', 'Monaco', 'Nauru',\n",
    "    'Niue', 'Palau', 'Saint Kitts and Nevis', 'San Marino', 'Tuvalu'\n",
    "]\n",
    "\n",
    "# Drop rows where 'Country' is in countries_to_drop\n",
    "merged_df = merged_df[~merged_df['Country'].isin(countries_to_drop)]\n",
    "\n",
    "# Display the updated DataFrame shape to verify changes\n",
    "print(f\"DataFrame shape after dropping countries: {merged_df.shape}\")"
   ]
  },
  {
   "cell_type": "code",
   "execution_count": 45,
   "metadata": {},
   "outputs": [
    {
     "name": "stdout",
     "output_type": "stream",
     "text": [
      "                       Column Names  Unique Values  Null Value Percentage\n",
      "0                           Country            183               0.000000\n",
      "1                              Year             16               0.000000\n",
      "2                            Status              2               0.000000\n",
      "3                   Life expectancy            362               0.000000\n",
      "4                   Adult Mortality            425               0.000000\n",
      "5                     infant deaths            209               0.000000\n",
      "6                           Alcohol           1076               6.591530\n",
      "7            percentage expenditure           2323               0.000000\n",
      "8                       Hepatitis B             87              18.886612\n",
      "9                           Measles            958               0.000000\n",
      "10                              BMI            602               1.092896\n",
      "11                under-five deaths            252               0.000000\n",
      "12                            Polio             73               0.648907\n",
      "13                Total expenditure            816               7.718579\n",
      "14                       Diphtheria             81               0.648907\n",
      "15                         HIV/AIDS            200               0.000000\n",
      "16                              GDP           2485              15.129781\n",
      "17                       Population           2277              21.994536\n",
      "18             thinness  1-19 years            200               1.092896\n",
      "19               thinness 5-9 years            207               1.092896\n",
      "20  Income composition of resources            625               5.464481\n",
      "21                        Schooling            173               5.464481\n",
      "22                           region              5               0.000000\n",
      "23                       sub-region             17               0.000000\n"
     ]
    }
   ],
   "source": [
    "# Display all column names\n",
    "column_names = merged_df.columns\n",
    "\n",
    "# Count the number of unique values for each column\n",
    "unique_values = merged_df.nunique()\n",
    "\n",
    "# Calculate the percentage of null values for each column\n",
    "null_percentage = merged_df.isnull().mean() * 100\n",
    "\n",
    "# Combine the information into a single DataFrame\n",
    "summary_df = pd.DataFrame({\n",
    "    'Column Names': column_names,\n",
    "    'Unique Values': unique_values,\n",
    "    'Null Value Percentage': null_percentage\n",
    "}).reset_index(drop=True)\n",
    "\n",
    "print(summary_df)"
   ]
  },
  {
   "cell_type": "code",
   "execution_count": 47,
   "metadata": {},
   "outputs": [
    {
     "name": "stdout",
     "output_type": "stream",
     "text": [
      "                                 Country    region  \\\n",
      "304     Bolivia (Plurinational State of)  Americas   \n",
      "305     Bolivia (Plurinational State of)  Americas   \n",
      "306     Bolivia (Plurinational State of)  Americas   \n",
      "307     Bolivia (Plurinational State of)  Americas   \n",
      "308     Bolivia (Plurinational State of)  Americas   \n",
      "...                                  ...       ...   \n",
      "2869  Venezuela (Bolivarian Republic of)  Americas   \n",
      "2870  Venezuela (Bolivarian Republic of)  Americas   \n",
      "2871  Venezuela (Bolivarian Republic of)  Americas   \n",
      "2872  Venezuela (Bolivarian Republic of)  Americas   \n",
      "2873  Venezuela (Bolivarian Republic of)  Americas   \n",
      "\n",
      "                           sub-region  \n",
      "304   Latin America and the Caribbean  \n",
      "305   Latin America and the Caribbean  \n",
      "306   Latin America and the Caribbean  \n",
      "307   Latin America and the Caribbean  \n",
      "308   Latin America and the Caribbean  \n",
      "...                               ...  \n",
      "2869  Latin America and the Caribbean  \n",
      "2870  Latin America and the Caribbean  \n",
      "2871  Latin America and the Caribbean  \n",
      "2872  Latin America and the Caribbean  \n",
      "2873  Latin America and the Caribbean  \n",
      "\n",
      "[208 rows x 3 columns]\n",
      "Updated DataFrame saved to updated_life_expectancy_data.csv\n"
     ]
    }
   ],
   "source": [
    "\n",
    "\n",
    "# Dictionary with the missing region and sub-region information\n",
    "missing_regions = {\n",
    "    'Bolivia (Plurinational State of)': ('Americas', 'Latin America and the Caribbean'),\n",
    "    'Democratic People\\'s Republic of Korea': ('Asia', 'Eastern Asia'),\n",
    "    'Democratic Republic of the Congo': ('Africa', 'Sub-Saharan Africa'),\n",
    "    'Iran (Islamic Republic of)': ('Asia', 'Western Asia'),\n",
    "    'Micronesia (Federated States of)': ('Oceania', 'Micronesia'),\n",
    "    'Netherlands': ('Europe', 'Western Europe'),\n",
    "    'Republic of Korea': ('Asia', 'Eastern Asia'),\n",
    "    'Republic of Moldova': ('Europe', 'Eastern Europe'),\n",
    "    'Swaziland': ('Africa', 'Sub-Saharan Africa'),\n",
    "    'The former Yugoslav republic of Macedonia': ('Europe', 'Southern Europe'),\n",
    "    'Turkey': ('Asia', 'Western Asia'),\n",
    "    'United Republic of Tanzania': ('Africa', 'Sub-Saharan Africa'),\n",
    "    'Venezuela (Bolivarian Republic of)': ('Americas', 'Latin America and the Caribbean')\n",
    "}\n",
    "\n",
    "# Update the DataFrame with the missing region and sub-region information\n",
    "for country, (region, sub_region) in missing_regions.items():\n",
    "    mask = merged_df['Country'] == country\n",
    "    merged_df.loc[mask, 'region'] = region\n",
    "    merged_df.loc[mask, 'sub-region'] = sub_region\n",
    "\n",
    "# Display the updated DataFrame to verify the changes\n",
    "print(merged_df.loc[merged_df['Country'].isin(missing_regions.keys()), ['Country', 'region', 'sub-region']])\n",
    "\n",
    "# Save the updated DataFrame as a CSV file\n",
    "output_file_path = 'updated_life_expectancy_data.csv'\n",
    "merged_df.to_csv(output_file_path, index=False)\n",
    "\n",
    "print(f\"Updated DataFrame saved to {output_file_path}\")"
   ]
  },
  {
   "cell_type": "code",
   "execution_count": 48,
   "metadata": {},
   "outputs": [
    {
     "name": "stdout",
     "output_type": "stream",
     "text": [
      "Column 'Country' has type 'object' and 2928 rows.\n",
      "Column 'Year' has type 'int64' and 2928 rows.\n",
      "Column 'Status' has type 'object' and 2928 rows.\n",
      "Column 'Life expectancy' has type 'float64' and 2928 rows.\n",
      "Column 'Adult Mortality' has type 'float64' and 2928 rows.\n",
      "Column 'infant deaths' has type 'int64' and 2928 rows.\n",
      "Column 'Alcohol' has type 'float64' and 2735 rows.\n",
      "Column 'percentage expenditure' has type 'float64' and 2928 rows.\n",
      "Column 'Hepatitis B' has type 'float64' and 2375 rows.\n",
      "Column 'Measles' has type 'int64' and 2928 rows.\n",
      "Column 'BMI' has type 'float64' and 2896 rows.\n",
      "Column 'under-five deaths' has type 'int64' and 2928 rows.\n",
      "Column 'Polio' has type 'float64' and 2909 rows.\n",
      "Column 'Total expenditure' has type 'float64' and 2702 rows.\n",
      "Column 'Diphtheria' has type 'float64' and 2909 rows.\n",
      "Column 'HIV/AIDS' has type 'float64' and 2928 rows.\n",
      "Column 'GDP' has type 'float64' and 2485 rows.\n",
      "Column 'Population' has type 'float64' and 2284 rows.\n",
      "Column 'thinness  1-19 years' has type 'float64' and 2896 rows.\n",
      "Column 'thinness 5-9 years' has type 'float64' and 2896 rows.\n",
      "Column 'Income composition of resources' has type 'float64' and 2768 rows.\n",
      "Column 'Schooling' has type 'float64' and 2768 rows.\n",
      "Column 'region' has type 'object' and 2928 rows.\n",
      "Column 'sub-region' has type 'object' and 2928 rows.\n"
     ]
    }
   ],
   "source": [
    "# Print type and row count for each column\n",
    "\n",
    "for column in merged_df.columns:\n",
    "    column_type = merged_df[column].dtype\n",
    "    row_count = merged_df[column].count()\n",
    "    print(f\"Column '{column}' has type '{column_type}' and {row_count} rows.\")"
   ]
  },
  {
   "cell_type": "code",
   "execution_count": 49,
   "metadata": {},
   "outputs": [
    {
     "name": "stdout",
     "output_type": "stream",
     "text": [
      "Number of null values in 'Life expectancy' column: 0\n"
     ]
    }
   ],
   "source": [
    "null_values_count = merged_df['Life expectancy'].isnull().sum()\n",
    "print(f\"Number of null values in 'Life expectancy' column: {null_values_count}\")"
   ]
  },
  {
   "cell_type": "code",
   "execution_count": 29,
   "metadata": {},
   "outputs": [
    {
     "name": "stdout",
     "output_type": "stream",
     "text": [
      "Number of null values in 'region' column: 0\n"
     ]
    }
   ],
   "source": [
    "null_values_count = merged_df['region'].isnull().sum()\n",
    "print(f\"Number of null values in 'region' column: {null_values_count}\")"
   ]
  },
  {
   "cell_type": "code",
   "execution_count": 51,
   "metadata": {},
   "outputs": [
    {
     "name": "stdout",
     "output_type": "stream",
     "text": [
      "Number of null values in 'Alcohol' column: 193\n"
     ]
    }
   ],
   "source": [
    "null_values_count = merged_df['Alcohol'].isnull().sum()\n",
    "print(f\"Number of null values in 'Alcohol' column: {null_values_count}\")"
   ]
  },
  {
   "cell_type": "code",
   "execution_count": 52,
   "metadata": {},
   "outputs": [
    {
     "name": "stdout",
     "output_type": "stream",
     "text": [
      "Remaining NaN values in 'Alcohol' column:\n",
      "          Country  Year      Status  Life expectancy  Adult Mortality  \\\n",
      "2409  South Sudan  2015  Developing             57.3            332.0   \n",
      "2410  South Sudan  2014  Developing             56.6            343.0   \n",
      "2411  South Sudan  2013  Developing             56.4            345.0   \n",
      "2412  South Sudan  2012  Developing             56.0            347.0   \n",
      "2413  South Sudan  2011  Developing             55.4            355.0   \n",
      "2414  South Sudan  2010  Developing             55.0            359.0   \n",
      "2415  South Sudan  2009  Developing             54.3            369.0   \n",
      "2416  South Sudan  2008  Developing             53.6            377.0   \n",
      "2417  South Sudan  2007  Developing             53.1            381.0   \n",
      "2418  South Sudan  2006  Developing             52.5            383.0   \n",
      "2419  South Sudan  2005  Developing             51.9            383.0   \n",
      "2420  South Sudan  2004  Developing             51.4            383.0   \n",
      "2421  South Sudan  2003  Developing             58.0            383.0   \n",
      "2422  South Sudan  2002  Developing             52.0            382.0   \n",
      "2423  South Sudan  2001  Developing             49.6            381.0   \n",
      "2424  South Sudan  2000  Developing             48.9             38.0   \n",
      "\n",
      "      infant deaths  Alcohol  percentage expenditure  Hepatitis B  Measles  \\\n",
      "2409             26      NaN                0.000000         31.0      878   \n",
      "2410             26      NaN               46.074469          NaN      441   \n",
      "2411             26      NaN               47.444530          NaN      525   \n",
      "2412             26      NaN               38.338232          NaN     1952   \n",
      "2413             27      NaN                0.000000          NaN     1256   \n",
      "2414             27      NaN                0.000000          NaN        0   \n",
      "2415             27      NaN                0.000000          NaN        0   \n",
      "2416             27      NaN                0.000000          NaN        0   \n",
      "2417             27      NaN                0.000000          NaN        0   \n",
      "2418             28      NaN                0.000000          NaN        0   \n",
      "2419             28      NaN                0.000000          NaN        0   \n",
      "2420             29      NaN                0.000000          NaN        0   \n",
      "2421             29      NaN                0.000000          NaN        0   \n",
      "2422             30      NaN                0.000000          NaN        0   \n",
      "2423             30      NaN                0.000000          NaN        0   \n",
      "2424             31      NaN                0.000000          NaN        0   \n",
      "\n",
      "      ...  Diphtheria  HIV/AIDS          GDP  Population  \\\n",
      "2409  ...        31.0       3.4   758.725782  11882136.0   \n",
      "2410  ...        39.0       3.5  1151.861715   1153971.0   \n",
      "2411  ...        45.0       3.6  1186.113250   1117749.0   \n",
      "2412  ...        59.0       3.8   958.455810   1818258.0   \n",
      "2413  ...        61.0       3.9   176.971300   1448857.0   \n",
      "2414  ...         NaN       4.0  1562.239346    167192.0   \n",
      "2415  ...         NaN       4.2  1264.789980    967667.0   \n",
      "2416  ...         NaN       4.2  1678.711862   9263136.0   \n",
      "2417  ...         NaN       4.2          NaN     88568.0   \n",
      "2418  ...         NaN       4.1          NaN   8468152.0   \n",
      "2419  ...         NaN       3.9          NaN    818877.0   \n",
      "2420  ...         NaN       3.8          NaN   7787655.0   \n",
      "2421  ...         NaN       3.5          NaN    751642.0   \n",
      "2422  ...         NaN       3.3          NaN   7237276.0   \n",
      "2423  ...         NaN       3.0          NaN   6974442.0   \n",
      "2424  ...         NaN       2.7          NaN     67656.0   \n",
      "\n",
      "      thinness  1-19 years  thinness 5-9 years  \\\n",
      "2409                   NaN                 NaN   \n",
      "2410                   NaN                 NaN   \n",
      "2411                   NaN                 NaN   \n",
      "2412                   NaN                 NaN   \n",
      "2413                   NaN                 NaN   \n",
      "2414                   NaN                 NaN   \n",
      "2415                   NaN                 NaN   \n",
      "2416                   NaN                 NaN   \n",
      "2417                   NaN                 NaN   \n",
      "2418                   NaN                 NaN   \n",
      "2419                   NaN                 NaN   \n",
      "2420                   NaN                 NaN   \n",
      "2421                   NaN                 NaN   \n",
      "2422                   NaN                 NaN   \n",
      "2423                   NaN                 NaN   \n",
      "2424                   NaN                 NaN   \n",
      "\n",
      "      Income composition of resources  Schooling  region          sub-region  \n",
      "2409                            0.421        4.9  Africa  Sub-Saharan Africa  \n",
      "2410                            0.421        4.9  Africa  Sub-Saharan Africa  \n",
      "2411                            0.417        4.9  Africa  Sub-Saharan Africa  \n",
      "2412                            0.419        4.9  Africa  Sub-Saharan Africa  \n",
      "2413                            0.429        4.9  Africa  Sub-Saharan Africa  \n",
      "2414                            0.000        0.0  Africa  Sub-Saharan Africa  \n",
      "2415                            0.000        0.0  Africa  Sub-Saharan Africa  \n",
      "2416                            0.000        0.0  Africa  Sub-Saharan Africa  \n",
      "2417                            0.000        0.0  Africa  Sub-Saharan Africa  \n",
      "2418                            0.000        0.0  Africa  Sub-Saharan Africa  \n",
      "2419                            0.000        0.0  Africa  Sub-Saharan Africa  \n",
      "2420                            0.000        0.0  Africa  Sub-Saharan Africa  \n",
      "2421                            0.000        0.0  Africa  Sub-Saharan Africa  \n",
      "2422                            0.000        0.0  Africa  Sub-Saharan Africa  \n",
      "2423                            0.000        0.0  Africa  Sub-Saharan Africa  \n",
      "2424                            0.000        0.0  Africa  Sub-Saharan Africa  \n",
      "\n",
      "[16 rows x 24 columns]\n"
     ]
    },
    {
     "name": "stderr",
     "output_type": "stream",
     "text": [
      "C:\\Users\\benja\\AppData\\Local\\Temp\\ipykernel_14140\\148682996.py:5: FutureWarning: A value is trying to be set on a copy of a DataFrame or Series through chained assignment using an inplace method.\n",
      "The behavior will change in pandas 3.0. This inplace method will never work because the intermediate object on which we are setting values always behaves as a copy.\n",
      "\n",
      "For example, when doing 'df[col].method(value, inplace=True)', try using 'df.method({col: value}, inplace=True)' or df[col] = df[col].method(value) instead, to perform the operation inplace on the original object.\n",
      "\n",
      "\n",
      "  merged_df['Alcohol'].fillna(average_alcohol, inplace=True)\n"
     ]
    }
   ],
   "source": [
    "\n",
    "# Calculate average Alcohol values for each country\n",
    "average_alcohol = merged_df.groupby('Country')['Alcohol'].transform('mean')\n",
    "\n",
    "# Fill NaN values in Alcohol column with corresponding average values\n",
    "merged_df['Alcohol'].fillna(average_alcohol, inplace=True)\n",
    "\n",
    "# Display any remaining NaN values in 'Alcohol' column to verify\n",
    "print(f\"Remaining NaN values in 'Alcohol' column:\\n{merged_df[merged_df['Alcohol'].isnull()]}\")\n",
    "\n"
   ]
  },
  {
   "cell_type": "code",
   "execution_count": 53,
   "metadata": {},
   "outputs": [
    {
     "name": "stdout",
     "output_type": "stream",
     "text": [
      "Number of null values in 'Alcohol' column: 16\n"
     ]
    }
   ],
   "source": [
    "null_values_count = merged_df['Alcohol'].isnull().sum()\n",
    "print(f\"Number of null values in 'Alcohol' column: {null_values_count}\")"
   ]
  },
  {
   "cell_type": "code",
   "execution_count": 54,
   "metadata": {},
   "outputs": [
    {
     "name": "stdout",
     "output_type": "stream",
     "text": [
      "Countries with null values in 'Alcohol' column:\n",
      "2409    South Sudan\n",
      "2410    South Sudan\n",
      "2411    South Sudan\n",
      "2412    South Sudan\n",
      "2413    South Sudan\n",
      "2414    South Sudan\n",
      "2415    South Sudan\n",
      "2416    South Sudan\n",
      "2417    South Sudan\n",
      "2418    South Sudan\n",
      "2419    South Sudan\n",
      "2420    South Sudan\n",
      "2421    South Sudan\n",
      "2422    South Sudan\n",
      "2423    South Sudan\n",
      "2424    South Sudan\n",
      "Name: Country, dtype: object\n"
     ]
    }
   ],
   "source": [
    "# Filter rows where 'Alcohol' column is null and display the 'Country' column\n",
    "null_alcohol_countries = merged_df[merged_df['Alcohol'].isnull()]['Country']\n",
    "\n",
    "# Display the countries with null values in 'Alcohol' column\n",
    "print(\"Countries with null values in 'Alcohol' column:\")\n",
    "print(null_alcohol_countries)"
   ]
  },
  {
   "cell_type": "code",
   "execution_count": 55,
   "metadata": {},
   "outputs": [
    {
     "name": "stdout",
     "output_type": "stream",
     "text": [
      "Updated rows for 'South Sudan':\n",
      "Empty DataFrame\n",
      "Columns: [Year, Country, Alcohol]\n",
      "Index: []\n"
     ]
    }
   ],
   "source": [
    "# We found that South Sudan does not have alcohol data since Sudan and South Sudan were the same country until 2011 \n",
    "sudan_alcohol_values = merged_df.loc[merged_df['Country'] == 'Sudan', ['Year', 'Alcohol']].dropna()\n",
    "\n",
    "# Update null Alcohol values for South Sudan using values from Sudan\n",
    "merged_df.loc[(merged_df['Country'] == 'South Sudan') & (merged_df['Alcohol'].isnull()), 'Alcohol'] = merged_df.merge(sudan_alcohol_values, on='Year', suffixes=('_South Sudan', '_Sudan'))['Alcohol_Sudan']\n",
    "\n",
    "# Display the updated rows where 'Country' is 'South Sudan' to verify\n",
    "print(\"Updated rows for 'South Sudan':\")\n",
    "print(merged_df.loc[(merged_df['Country'] == 'South Sudan') & (merged_df['Alcohol'].isnull()), ['Year', 'Country', 'Alcohol']])"
   ]
  },
  {
   "cell_type": "code",
   "execution_count": 56,
   "metadata": {},
   "outputs": [
    {
     "name": "stdout",
     "output_type": "stream",
     "text": [
      "Number of null values in 'Alcohol' column: 0\n"
     ]
    }
   ],
   "source": [
    "null_values_count = merged_df['Alcohol'].isnull().sum()\n",
    "print(f\"Number of null values in 'Alcohol' column: {null_values_count}\")"
   ]
  },
  {
   "cell_type": "code",
   "execution_count": 57,
   "metadata": {},
   "outputs": [
    {
     "name": "stdout",
     "output_type": "stream",
     "text": [
      "Null value counts per column:\n",
      "Country: 0\n",
      "Year: 0\n",
      "Status: 0\n",
      "Life expectancy: 0\n",
      "Adult Mortality: 0\n",
      "infant deaths: 0\n",
      "Alcohol: 0\n",
      "percentage expenditure: 0\n",
      "Hepatitis B: 553\n",
      "Measles: 0\n",
      "BMI: 32\n",
      "under-five deaths: 0\n",
      "Polio: 19\n",
      "Total expenditure: 226\n",
      "Diphtheria: 19\n",
      "HIV/AIDS: 0\n",
      "GDP: 443\n",
      "Population: 644\n",
      "thinness  1-19 years: 32\n",
      "thinness 5-9 years: 32\n",
      "Income composition of resources: 160\n",
      "Schooling: 160\n",
      "region: 0\n",
      "sub-region: 0\n"
     ]
    }
   ],
   "source": [
    "# Count null values in each column\n",
    "null_counts = merged_df.isnull().sum()\n",
    "\n",
    "# Print column names and their respective null counts\n",
    "print(\"Null value counts per column:\")\n",
    "for column, count in null_counts.items():\n",
    "    print(f\"{column}: {count}\")"
   ]
  },
  {
   "cell_type": "code",
   "execution_count": 59,
   "metadata": {},
   "outputs": [
    {
     "ename": "KeyError",
     "evalue": "\"['Hepatitis B', 'Total expenditure'] not found in axis\"",
     "output_type": "error",
     "traceback": [
      "\u001b[1;31m---------------------------------------------------------------------------\u001b[0m",
      "\u001b[1;31mKeyError\u001b[0m                                  Traceback (most recent call last)",
      "Cell \u001b[1;32mIn[59], line 5\u001b[0m\n\u001b[0;32m      2\u001b[0m columns_to_drop \u001b[38;5;241m=\u001b[39m [\u001b[38;5;124m'\u001b[39m\u001b[38;5;124mHepatitis B\u001b[39m\u001b[38;5;124m'\u001b[39m, \u001b[38;5;124m'\u001b[39m\u001b[38;5;124mTotal expenditure\u001b[39m\u001b[38;5;124m'\u001b[39m, \u001b[38;5;124m'\u001b[39m\u001b[38;5;124mGDP\u001b[39m\u001b[38;5;124m'\u001b[39m]\n\u001b[0;32m      4\u001b[0m \u001b[38;5;66;03m# Drop the columns from the DataFrame\u001b[39;00m\n\u001b[1;32m----> 5\u001b[0m \u001b[43mmerged_df\u001b[49m\u001b[38;5;241;43m.\u001b[39;49m\u001b[43mdrop\u001b[49m\u001b[43m(\u001b[49m\u001b[43mcolumns\u001b[49m\u001b[38;5;241;43m=\u001b[39;49m\u001b[43mcolumns_to_drop\u001b[49m\u001b[43m,\u001b[49m\u001b[43m \u001b[49m\u001b[43minplace\u001b[49m\u001b[38;5;241;43m=\u001b[39;49m\u001b[38;5;28;43;01mTrue\u001b[39;49;00m\u001b[43m)\u001b[49m\n\u001b[0;32m      7\u001b[0m \u001b[38;5;66;03m# Display the updated DataFrame shape to verify\u001b[39;00m\n\u001b[0;32m      8\u001b[0m \u001b[38;5;28mprint\u001b[39m(\u001b[38;5;124mf\u001b[39m\u001b[38;5;124m\"\u001b[39m\u001b[38;5;124mDataFrame shape after dropping columns: \u001b[39m\u001b[38;5;132;01m{\u001b[39;00mmerged_df\u001b[38;5;241m.\u001b[39mshape\u001b[38;5;132;01m}\u001b[39;00m\u001b[38;5;124m\"\u001b[39m)\n",
      "File \u001b[1;32m~\\AppData\\Local\\Packages\\PythonSoftwareFoundation.Python.3.11_qbz5n2kfra8p0\\LocalCache\\local-packages\\Python311\\site-packages\\pandas\\core\\frame.py:5581\u001b[0m, in \u001b[0;36mDataFrame.drop\u001b[1;34m(self, labels, axis, index, columns, level, inplace, errors)\u001b[0m\n\u001b[0;32m   5433\u001b[0m \u001b[38;5;28;01mdef\u001b[39;00m \u001b[38;5;21mdrop\u001b[39m(\n\u001b[0;32m   5434\u001b[0m     \u001b[38;5;28mself\u001b[39m,\n\u001b[0;32m   5435\u001b[0m     labels: IndexLabel \u001b[38;5;241m|\u001b[39m \u001b[38;5;28;01mNone\u001b[39;00m \u001b[38;5;241m=\u001b[39m \u001b[38;5;28;01mNone\u001b[39;00m,\n\u001b[1;32m   (...)\u001b[0m\n\u001b[0;32m   5442\u001b[0m     errors: IgnoreRaise \u001b[38;5;241m=\u001b[39m \u001b[38;5;124m\"\u001b[39m\u001b[38;5;124mraise\u001b[39m\u001b[38;5;124m\"\u001b[39m,\n\u001b[0;32m   5443\u001b[0m ) \u001b[38;5;241m-\u001b[39m\u001b[38;5;241m>\u001b[39m DataFrame \u001b[38;5;241m|\u001b[39m \u001b[38;5;28;01mNone\u001b[39;00m:\n\u001b[0;32m   5444\u001b[0m \u001b[38;5;250m    \u001b[39m\u001b[38;5;124;03m\"\"\"\u001b[39;00m\n\u001b[0;32m   5445\u001b[0m \u001b[38;5;124;03m    Drop specified labels from rows or columns.\u001b[39;00m\n\u001b[0;32m   5446\u001b[0m \n\u001b[1;32m   (...)\u001b[0m\n\u001b[0;32m   5579\u001b[0m \u001b[38;5;124;03m            weight  1.0     0.8\u001b[39;00m\n\u001b[0;32m   5580\u001b[0m \u001b[38;5;124;03m    \"\"\"\u001b[39;00m\n\u001b[1;32m-> 5581\u001b[0m     \u001b[38;5;28;01mreturn\u001b[39;00m \u001b[38;5;28;43msuper\u001b[39;49m\u001b[43m(\u001b[49m\u001b[43m)\u001b[49m\u001b[38;5;241;43m.\u001b[39;49m\u001b[43mdrop\u001b[49m\u001b[43m(\u001b[49m\n\u001b[0;32m   5582\u001b[0m \u001b[43m        \u001b[49m\u001b[43mlabels\u001b[49m\u001b[38;5;241;43m=\u001b[39;49m\u001b[43mlabels\u001b[49m\u001b[43m,\u001b[49m\n\u001b[0;32m   5583\u001b[0m \u001b[43m        \u001b[49m\u001b[43maxis\u001b[49m\u001b[38;5;241;43m=\u001b[39;49m\u001b[43maxis\u001b[49m\u001b[43m,\u001b[49m\n\u001b[0;32m   5584\u001b[0m \u001b[43m        \u001b[49m\u001b[43mindex\u001b[49m\u001b[38;5;241;43m=\u001b[39;49m\u001b[43mindex\u001b[49m\u001b[43m,\u001b[49m\n\u001b[0;32m   5585\u001b[0m \u001b[43m        \u001b[49m\u001b[43mcolumns\u001b[49m\u001b[38;5;241;43m=\u001b[39;49m\u001b[43mcolumns\u001b[49m\u001b[43m,\u001b[49m\n\u001b[0;32m   5586\u001b[0m \u001b[43m        \u001b[49m\u001b[43mlevel\u001b[49m\u001b[38;5;241;43m=\u001b[39;49m\u001b[43mlevel\u001b[49m\u001b[43m,\u001b[49m\n\u001b[0;32m   5587\u001b[0m \u001b[43m        \u001b[49m\u001b[43minplace\u001b[49m\u001b[38;5;241;43m=\u001b[39;49m\u001b[43minplace\u001b[49m\u001b[43m,\u001b[49m\n\u001b[0;32m   5588\u001b[0m \u001b[43m        \u001b[49m\u001b[43merrors\u001b[49m\u001b[38;5;241;43m=\u001b[39;49m\u001b[43merrors\u001b[49m\u001b[43m,\u001b[49m\n\u001b[0;32m   5589\u001b[0m \u001b[43m    \u001b[49m\u001b[43m)\u001b[49m\n",
      "File \u001b[1;32m~\\AppData\\Local\\Packages\\PythonSoftwareFoundation.Python.3.11_qbz5n2kfra8p0\\LocalCache\\local-packages\\Python311\\site-packages\\pandas\\core\\generic.py:4788\u001b[0m, in \u001b[0;36mNDFrame.drop\u001b[1;34m(self, labels, axis, index, columns, level, inplace, errors)\u001b[0m\n\u001b[0;32m   4786\u001b[0m \u001b[38;5;28;01mfor\u001b[39;00m axis, labels \u001b[38;5;129;01min\u001b[39;00m axes\u001b[38;5;241m.\u001b[39mitems():\n\u001b[0;32m   4787\u001b[0m     \u001b[38;5;28;01mif\u001b[39;00m labels \u001b[38;5;129;01mis\u001b[39;00m \u001b[38;5;129;01mnot\u001b[39;00m \u001b[38;5;28;01mNone\u001b[39;00m:\n\u001b[1;32m-> 4788\u001b[0m         obj \u001b[38;5;241m=\u001b[39m \u001b[43mobj\u001b[49m\u001b[38;5;241;43m.\u001b[39;49m\u001b[43m_drop_axis\u001b[49m\u001b[43m(\u001b[49m\u001b[43mlabels\u001b[49m\u001b[43m,\u001b[49m\u001b[43m \u001b[49m\u001b[43maxis\u001b[49m\u001b[43m,\u001b[49m\u001b[43m \u001b[49m\u001b[43mlevel\u001b[49m\u001b[38;5;241;43m=\u001b[39;49m\u001b[43mlevel\u001b[49m\u001b[43m,\u001b[49m\u001b[43m \u001b[49m\u001b[43merrors\u001b[49m\u001b[38;5;241;43m=\u001b[39;49m\u001b[43merrors\u001b[49m\u001b[43m)\u001b[49m\n\u001b[0;32m   4790\u001b[0m \u001b[38;5;28;01mif\u001b[39;00m inplace:\n\u001b[0;32m   4791\u001b[0m     \u001b[38;5;28mself\u001b[39m\u001b[38;5;241m.\u001b[39m_update_inplace(obj)\n",
      "File \u001b[1;32m~\\AppData\\Local\\Packages\\PythonSoftwareFoundation.Python.3.11_qbz5n2kfra8p0\\LocalCache\\local-packages\\Python311\\site-packages\\pandas\\core\\generic.py:4830\u001b[0m, in \u001b[0;36mNDFrame._drop_axis\u001b[1;34m(self, labels, axis, level, errors, only_slice)\u001b[0m\n\u001b[0;32m   4828\u001b[0m         new_axis \u001b[38;5;241m=\u001b[39m axis\u001b[38;5;241m.\u001b[39mdrop(labels, level\u001b[38;5;241m=\u001b[39mlevel, errors\u001b[38;5;241m=\u001b[39merrors)\n\u001b[0;32m   4829\u001b[0m     \u001b[38;5;28;01melse\u001b[39;00m:\n\u001b[1;32m-> 4830\u001b[0m         new_axis \u001b[38;5;241m=\u001b[39m \u001b[43maxis\u001b[49m\u001b[38;5;241;43m.\u001b[39;49m\u001b[43mdrop\u001b[49m\u001b[43m(\u001b[49m\u001b[43mlabels\u001b[49m\u001b[43m,\u001b[49m\u001b[43m \u001b[49m\u001b[43merrors\u001b[49m\u001b[38;5;241;43m=\u001b[39;49m\u001b[43merrors\u001b[49m\u001b[43m)\u001b[49m\n\u001b[0;32m   4831\u001b[0m     indexer \u001b[38;5;241m=\u001b[39m axis\u001b[38;5;241m.\u001b[39mget_indexer(new_axis)\n\u001b[0;32m   4833\u001b[0m \u001b[38;5;66;03m# Case for non-unique axis\u001b[39;00m\n\u001b[0;32m   4834\u001b[0m \u001b[38;5;28;01melse\u001b[39;00m:\n",
      "File \u001b[1;32m~\\AppData\\Local\\Packages\\PythonSoftwareFoundation.Python.3.11_qbz5n2kfra8p0\\LocalCache\\local-packages\\Python311\\site-packages\\pandas\\core\\indexes\\base.py:7070\u001b[0m, in \u001b[0;36mIndex.drop\u001b[1;34m(self, labels, errors)\u001b[0m\n\u001b[0;32m   7068\u001b[0m \u001b[38;5;28;01mif\u001b[39;00m mask\u001b[38;5;241m.\u001b[39many():\n\u001b[0;32m   7069\u001b[0m     \u001b[38;5;28;01mif\u001b[39;00m errors \u001b[38;5;241m!=\u001b[39m \u001b[38;5;124m\"\u001b[39m\u001b[38;5;124mignore\u001b[39m\u001b[38;5;124m\"\u001b[39m:\n\u001b[1;32m-> 7070\u001b[0m         \u001b[38;5;28;01mraise\u001b[39;00m \u001b[38;5;167;01mKeyError\u001b[39;00m(\u001b[38;5;124mf\u001b[39m\u001b[38;5;124m\"\u001b[39m\u001b[38;5;132;01m{\u001b[39;00mlabels[mask]\u001b[38;5;241m.\u001b[39mtolist()\u001b[38;5;132;01m}\u001b[39;00m\u001b[38;5;124m not found in axis\u001b[39m\u001b[38;5;124m\"\u001b[39m)\n\u001b[0;32m   7071\u001b[0m     indexer \u001b[38;5;241m=\u001b[39m indexer[\u001b[38;5;241m~\u001b[39mmask]\n\u001b[0;32m   7072\u001b[0m \u001b[38;5;28;01mreturn\u001b[39;00m \u001b[38;5;28mself\u001b[39m\u001b[38;5;241m.\u001b[39mdelete(indexer)\n",
      "\u001b[1;31mKeyError\u001b[0m: \"['Hepatitis B', 'Total expenditure'] not found in axis\""
     ]
    }
   ],
   "source": [
    "# Dropping Hep B & Total expenditure has the data is too incomplete\n",
    "columns_to_drop = ['Hepatitis B', 'Total expenditure', 'GDP']\n",
    "\n",
    "# Drop the columns from the DataFrame\n",
    "merged_df.drop(columns=columns_to_drop, inplace=True)\n",
    "\n",
    "# Display the updated DataFrame shape to verify\n",
    "print(f\"DataFrame shape after dropping columns: {merged_df.shape}\")"
   ]
  },
  {
   "cell_type": "code",
   "execution_count": 60,
   "metadata": {},
   "outputs": [
    {
     "name": "stdout",
     "output_type": "stream",
     "text": [
      "DataFrame shape after dropping columns: (2928, 21)\n"
     ]
    }
   ],
   "source": [
    "# Dropping GDP as well \n",
    "columns_to_drop = [ 'GDP']\n",
    "\n",
    "# Drop the columns from the DataFrame\n",
    "merged_df.drop(columns=columns_to_drop, inplace=True)\n",
    "\n",
    "# Display the updated DataFrame shape to verify\n",
    "print(f\"DataFrame shape after dropping columns: {merged_df.shape}\")"
   ]
  },
  {
   "cell_type": "code",
   "execution_count": 61,
   "metadata": {},
   "outputs": [
    {
     "name": "stdout",
     "output_type": "stream",
     "text": [
      "Remaining null values after filling with averages:\n",
      "Polio                    0\n",
      "Diphtheria               0\n",
      "thinness  1-19 years    32\n",
      "thinness 5-9 years      32\n",
      "dtype: int64\n"
     ]
    }
   ],
   "source": [
    "# List of columns to replace null values with average by 'Country'\n",
    "columns_to_average = ['Polio', 'Diphtheria', 'thinness  1-19 years', 'thinness 5-9 years']\n",
    "\n",
    "# Calculate average values for each column by 'Country'\n",
    "for column in columns_to_average:\n",
    "    merged_df[column] = merged_df.groupby('Country')[column].transform(lambda x: x.fillna(x.mean()))\n",
    "\n",
    "# Display any remaining NaN values in these columns to verify\n",
    "remaining_nulls = merged_df[columns_to_average].isnull().sum()\n",
    "print(\"Remaining null values after filling with averages:\")\n",
    "print(remaining_nulls)"
   ]
  },
  {
   "cell_type": "code",
   "execution_count": 62,
   "metadata": {},
   "outputs": [
    {
     "name": "stdout",
     "output_type": "stream",
     "text": [
      "Countries where 'thinness  1-19 years' is null:\n",
      "South Sudan\n",
      "Sudan\n"
     ]
    }
   ],
   "source": [
    "# Looking to see what country(s) have the remaining null values that did not take the average probably due to no data for that country\n",
    "null_thinness_countries = merged_df[merged_df['thinness  1-19 years'].isnull()]['Country'].unique()\n",
    "\n",
    "# Print the unique countries where 'thinness  1-19 years' is null\n",
    "print(\"Countries where 'thinness  1-19 years' is null:\")\n",
    "for country in null_thinness_countries:\n",
    "    print(country)"
   ]
  },
  {
   "cell_type": "code",
   "execution_count": 64,
   "metadata": {},
   "outputs": [
    {
     "name": "stdout",
     "output_type": "stream",
     "text": [
      "Remaining null values after filling with averages:\n",
      "thinness 5-9 years      0\n",
      "thinness  1-19 years    0\n",
      "dtype: int64\n"
     ]
    }
   ],
   "source": [
    "# The Sudans once agian are causing issues. Lets replace their non- entry column nulls with an average from their sub-region\n",
    "columns_to_average = ['thinness 5-9 years', 'thinness  1-19 years']\n",
    "\n",
    "# Calculate average values for 'Sub-Saharan Africa' sub-region excluding Sudan and South Sudan\n",
    "for column in columns_to_average:\n",
    "    sub_saharan_avg = merged_df.loc[(merged_df['sub-region'] == 'Sub-Saharan Africa') & (~merged_df['Country'].isin(['Sudan', 'South Sudan']))][column].mean()\n",
    "    merged_df.loc[(merged_df['Country'].isin(['Sudan', 'South Sudan'])) & (merged_df['sub-region'] == 'Sub-Saharan Africa') & (merged_df[column].isnull()), column] = sub_saharan_avg\n",
    "\n",
    "# Display any remaining NaN values in these columns to verify\n",
    "remaining_nulls = merged_df[merged_df['Country'].isin(['Sudan', 'South Sudan']) & (merged_df['sub-region'] == 'Sub-Saharan Africa')][columns_to_average].isnull().sum()\n",
    "print(\"Remaining null values after filling with averages:\")\n",
    "print(remaining_nulls)"
   ]
  },
  {
   "cell_type": "code",
   "execution_count": 68,
   "metadata": {},
   "outputs": [
    {
     "name": "stdout",
     "output_type": "stream",
     "text": [
      "Updated 'thinness' values for Sudan:\n",
      "      Year Country  thinness 5-9 years  thinness  1-19 years\n",
      "2457  2015   Sudan            7.374069              7.441356\n",
      "2458  2014   Sudan            7.374069              7.441356\n",
      "2459  2013   Sudan            7.374069              7.441356\n",
      "2460  2012   Sudan            7.374069              7.441356\n",
      "2461  2011   Sudan            7.374069              7.441356\n",
      "2462  2010   Sudan            7.374069              7.441356\n",
      "2463  2009   Sudan            7.374069              7.441356\n",
      "2464  2008   Sudan            7.374069              7.441356\n",
      "2465  2007   Sudan            7.374069              7.441356\n",
      "2466  2006   Sudan            7.374069              7.441356\n",
      "2467  2005   Sudan            7.374069              7.441356\n",
      "2468  2004   Sudan            7.374069              7.441356\n",
      "2469  2003   Sudan            7.374069              7.441356\n",
      "2470  2002   Sudan            7.374069              7.441356\n",
      "2471  2001   Sudan            7.374069              7.441356\n",
      "2472  2000   Sudan            7.374069              7.441356\n"
     ]
    }
   ],
   "source": [
    "# Iterate over each year\n",
    "for year in merged_df['Year'].unique():\n",
    "    # Find the 'thinness 5-9 years' value for South Sudan for the current year\n",
    "    south_sudan_value = merged_df.loc[(merged_df['Country'] == 'South Sudan') & (merged_df['Year'] == year), 'thinness 5-9 years'].values\n",
    "    # Update 'thinness 5-9 years' for Sudan to match South Sudan for the current year\n",
    "    merged_df.loc[(merged_df['Country'] == 'Sudan') & (merged_df['Year'] == year), 'thinness 5-9 years'] = south_sudan_value\n",
    "    \n",
    "    # Find the 'thinness  1-19 years' value for South Sudan for the current year\n",
    "    south_sudan_value = merged_df.loc[(merged_df['Country'] == 'South Sudan') & (merged_df['Year'] == year), 'thinness  1-19 years'].values\n",
    "    # Update 'thinness  1-19 years' for Sudan to match South Sudan for the current year\n",
    "    merged_df.loc[(merged_df['Country'] == 'Sudan') & (merged_df['Year'] == year), 'thinness  1-19 years'] = south_sudan_value\n",
    "\n",
    "# Display the updated rows for Sudan to verify\n",
    "updated_sudan_data = merged_df[merged_df['Country'] == 'Sudan'][['Year', 'Country', 'thinness 5-9 years', 'thinness  1-19 years']]\n",
    "print(\"Updated 'thinness' values for Sudan:\")\n",
    "print(updated_sudan_data)"
   ]
  },
  {
   "cell_type": "code",
   "execution_count": 69,
   "metadata": {},
   "outputs": [
    {
     "name": "stdout",
     "output_type": "stream",
     "text": [
      "Null value counts per column:\n",
      "Country: 0\n",
      "Year: 0\n",
      "Status: 0\n",
      "Life expectancy: 0\n",
      "Adult Mortality: 0\n",
      "infant deaths: 0\n",
      "Alcohol: 0\n",
      "percentage expenditure: 0\n",
      "Measles: 0\n",
      "BMI: 32\n",
      "under-five deaths: 0\n",
      "Polio: 0\n",
      "Diphtheria: 0\n",
      "HIV/AIDS: 0\n",
      "Population: 644\n",
      "thinness  1-19 years: 0\n",
      "thinness 5-9 years: 0\n",
      "Income composition of resources: 160\n",
      "Schooling: 160\n",
      "region: 0\n",
      "sub-region: 0\n"
     ]
    }
   ],
   "source": [
    "# Lets check our null values after cleaning \n",
    "null_counts = merged_df.isnull().sum()\n",
    "\n",
    "# Print column names and their respective null counts\n",
    "print(\"Null value counts per column:\")\n",
    "for column, count in null_counts.items():\n",
    "    print(f\"{column}: {count}\")"
   ]
  },
  {
   "cell_type": "code",
   "execution_count": 70,
   "metadata": {},
   "outputs": [
    {
     "name": "stdout",
     "output_type": "stream",
     "text": [
      "Countries with null values in 'BMI' column:\n",
      "South Sudan\n",
      "Sudan\n"
     ]
    }
   ],
   "source": [
    "# Find unique countries with null values in 'BMI' column\n",
    "countries_with_null_bmi = merged_df[merged_df['BMI'].isnull()]['Country'].unique()\n",
    "\n",
    "# Print unique countries with null values in 'BMI' column\n",
    "print(\"Countries with null values in 'BMI' column:\")\n",
    "for country in countries_with_null_bmi:\n",
    "    print(country)"
   ]
  },
  {
   "cell_type": "code",
   "execution_count": 71,
   "metadata": {},
   "outputs": [
    {
     "name": "stdout",
     "output_type": "stream",
     "text": [
      "Remaining null values after filling with averages:\n",
      "BMI    0\n",
      "dtype: int64\n"
     ]
    }
   ],
   "source": [
    "# The Sudans once agian are causing issues. Lets replace their non- entry column nulls with an average from their sub-region\n",
    "columns_to_average = ['BMI']\n",
    "\n",
    "# Calculate average values for 'Sub-Saharan Africa' sub-region excluding Sudan and South Sudan\n",
    "for column in columns_to_average:\n",
    "    sub_saharan_avg = merged_df.loc[(merged_df['sub-region'] == 'Sub-Saharan Africa') & (~merged_df['Country'].isin(['Sudan', 'South Sudan']))][column].mean()\n",
    "    merged_df.loc[(merged_df['Country'].isin(['Sudan', 'South Sudan'])) & (merged_df['sub-region'] == 'Sub-Saharan Africa') & (merged_df[column].isnull()), column] = sub_saharan_avg\n",
    "\n",
    "# Display any remaining NaN values in these columns to verify\n",
    "remaining_nulls = merged_df[merged_df['Country'].isin(['Sudan', 'South Sudan']) & (merged_df['sub-region'] == 'Sub-Saharan Africa')][columns_to_average].isnull().sum()\n",
    "print(\"Remaining null values after filling with averages:\")\n",
    "print(remaining_nulls)"
   ]
  },
  {
   "cell_type": "code",
   "execution_count": 72,
   "metadata": {},
   "outputs": [
    {
     "name": "stdout",
     "output_type": "stream",
     "text": [
      "Null value counts per column:\n",
      "Country: 0\n",
      "Year: 0\n",
      "Status: 0\n",
      "Life expectancy: 0\n",
      "Adult Mortality: 0\n",
      "infant deaths: 0\n",
      "Alcohol: 0\n",
      "percentage expenditure: 0\n",
      "Measles: 0\n",
      "BMI: 16\n",
      "under-five deaths: 0\n",
      "Polio: 0\n",
      "Diphtheria: 0\n",
      "HIV/AIDS: 0\n",
      "Population: 644\n",
      "thinness  1-19 years: 0\n",
      "thinness 5-9 years: 0\n",
      "Income composition of resources: 160\n",
      "Schooling: 160\n",
      "region: 0\n",
      "sub-region: 0\n"
     ]
    }
   ],
   "source": [
    "# Lets check our null values after cleaning \n",
    "null_counts = merged_df.isnull().sum()\n",
    "\n",
    "# Print column names and their respective null counts\n",
    "print(\"Null value counts per column:\")\n",
    "for column, count in null_counts.items():\n",
    "    print(f\"{column}: {count}\")"
   ]
  },
  {
   "cell_type": "code",
   "execution_count": 73,
   "metadata": {},
   "outputs": [
    {
     "name": "stdout",
     "output_type": "stream",
     "text": [
      "Updated 'BMI' values for Sudan:\n",
      "      Year Country        BMI\n",
      "2457  2015   Sudan  20.324335\n",
      "2458  2014   Sudan  20.324335\n",
      "2459  2013   Sudan  20.324335\n",
      "2460  2012   Sudan  20.324335\n",
      "2461  2011   Sudan  20.324335\n",
      "2462  2010   Sudan  20.324335\n",
      "2463  2009   Sudan  20.324335\n",
      "2464  2008   Sudan  20.324335\n",
      "2465  2007   Sudan  20.324335\n",
      "2466  2006   Sudan  20.324335\n",
      "2467  2005   Sudan  20.324335\n",
      "2468  2004   Sudan  20.324335\n",
      "2469  2003   Sudan  20.324335\n",
      "2470  2002   Sudan  20.324335\n",
      "2471  2001   Sudan  20.324335\n",
      "2472  2000   Sudan  20.324335\n"
     ]
    }
   ],
   "source": [
    "# Iterate over each year\n",
    "for year in merged_df['Year'].unique():\n",
    "    # Find the 'BMI' value for South Sudan for the current year\n",
    "    south_sudan_value = merged_df.loc[(merged_df['Country'] == 'South Sudan') & (merged_df['Year'] == year), 'BMI'].values\n",
    "    # Update 'BMI' for Sudan to match South Sudan for the current year\n",
    "    merged_df.loc[(merged_df['Country'] == 'Sudan') & (merged_df['Year'] == year), 'BMI'] = south_sudan_value\n",
    "    \n",
    "\n",
    "# Display the updated rows for Sudan to verify\n",
    "updated_sudan_data = merged_df[merged_df['Country'] == 'Sudan'][['Year', 'Country', 'BMI']]\n",
    "print(\"Updated 'BMI' values for Sudan:\")\n",
    "print(updated_sudan_data)"
   ]
  },
  {
   "cell_type": "code",
   "execution_count": 74,
   "metadata": {},
   "outputs": [
    {
     "name": "stdout",
     "output_type": "stream",
     "text": [
      "Null value counts per column:\n",
      "Country: 0\n",
      "Year: 0\n",
      "Status: 0\n",
      "Life expectancy: 0\n",
      "Adult Mortality: 0\n",
      "infant deaths: 0\n",
      "Alcohol: 0\n",
      "percentage expenditure: 0\n",
      "Measles: 0\n",
      "BMI: 0\n",
      "under-five deaths: 0\n",
      "Polio: 0\n",
      "Diphtheria: 0\n",
      "HIV/AIDS: 0\n",
      "Population: 644\n",
      "thinness  1-19 years: 0\n",
      "thinness 5-9 years: 0\n",
      "Income composition of resources: 160\n",
      "Schooling: 160\n",
      "region: 0\n",
      "sub-region: 0\n"
     ]
    }
   ],
   "source": [
    "# Lets check our null values after cleaning \n",
    "null_counts = merged_df.isnull().sum()\n",
    "\n",
    "# Print column names and their respective null counts\n",
    "print(\"Null value counts per column:\")\n",
    "for column, count in null_counts.items():\n",
    "    print(f\"{column}: {count}\")"
   ]
  },
  {
   "cell_type": "code",
   "execution_count": 75,
   "metadata": {},
   "outputs": [
    {
     "name": "stdout",
     "output_type": "stream",
     "text": [
      "Countries with only null values in 'Schooling' column:\n",
      "Côte d'Ivoire\n",
      "Czechia\n",
      "Democratic People's Republic of Korea\n",
      "Democratic Republic of the Congo\n",
      "Republic of Korea\n",
      "Republic of Moldova\n",
      "Somalia\n",
      "United Kingdom of Great Britain and Northern Ireland\n",
      "United Republic of Tanzania\n",
      "United States of America\n"
     ]
    }
   ],
   "source": [
    "# Lets find all of the countries where there is not any Schooling data. I would assume it is the same list as Income composition of resources\n",
    "countries_with_only_null_schooling = merged_df[merged_df['Schooling'].isnull()]['Country'].unique()\n",
    "\n",
    "# Print countries with only null values in 'Schooling' column\n",
    "print(\"Countries with only null values in 'Schooling' column:\")\n",
    "for country in countries_with_only_null_schooling:\n",
    "    print(country)"
   ]
  },
  {
   "cell_type": "code",
   "execution_count": 76,
   "metadata": {},
   "outputs": [
    {
     "name": "stdout",
     "output_type": "stream",
     "text": [
      "Updated values for 'Income composition of resources' and 'Schooling' for specified countries:\n",
      "                       Country          sub-region  \\\n",
      "432              Côte d'Ivoire  Sub-Saharan Africa   \n",
      "433              Côte d'Ivoire  Sub-Saharan Africa   \n",
      "434              Côte d'Ivoire  Sub-Saharan Africa   \n",
      "435              Côte d'Ivoire  Sub-Saharan Africa   \n",
      "436              Côte d'Ivoire  Sub-Saharan Africa   \n",
      "...                        ...                 ...   \n",
      "2805  United States of America    Northern America   \n",
      "2806  United States of America    Northern America   \n",
      "2807  United States of America    Northern America   \n",
      "2808  United States of America    Northern America   \n",
      "2809  United States of America    Northern America   \n",
      "\n",
      "      Income composition of resources  Schooling  \n",
      "432                          0.439260   8.874148  \n",
      "433                          0.439260   8.874148  \n",
      "434                          0.439260   8.874148  \n",
      "435                          0.439260   8.874148  \n",
      "436                          0.439260   8.874148  \n",
      "...                               ...        ...  \n",
      "2805                         0.892188  15.875000  \n",
      "2806                         0.892188  15.875000  \n",
      "2807                         0.892188  15.875000  \n",
      "2808                         0.892188  15.875000  \n",
      "2809                         0.892188  15.875000  \n",
      "\n",
      "[160 rows x 4 columns]\n"
     ]
    }
   ],
   "source": [
    "# List of countries to process\n",
    "countries_list = [\n",
    "    \"Côte d'Ivoire\", \"Czechia\", \"Democratic People's Republic of Korea\",\n",
    "    \"Democratic Republic of the Congo\", \"Republic of Korea\", \"Republic of Moldova\",\n",
    "    \"Somalia\", \"United Kingdom of Great Britain and Northern Ireland\",\n",
    "    \"United Republic of Tanzania\", \"United States of America\"\n",
    "]\n",
    "\n",
    "# Columns to process\n",
    "columns_to_average = ['Income composition of resources', 'Schooling']\n",
    "\n",
    "# Iterate over each country in the list\n",
    "for country in countries_list:\n",
    "    # Find the sub-region of the current country\n",
    "    sub_region = merged_df.loc[merged_df['Country'] == country, 'sub-region'].iloc[0]\n",
    "    \n",
    "    # Calculate average values for 'Income composition of resources' and 'Schooling' within the sub-region\n",
    "    for column in columns_to_average:\n",
    "        avg_value = merged_df.loc[(merged_df['sub-region'] == sub_region) & (~merged_df[column].isnull()), column].mean()\n",
    "        \n",
    "        # Update null values for the current country with the average value\n",
    "        merged_df.loc[(merged_df['Country'] == country) & (merged_df[column].isnull()), column] = avg_value\n",
    "\n",
    "# Display the updated rows for the specified countries to verify\n",
    "updated_countries_data = merged_df[merged_df['Country'].isin(countries_list)][['Country', 'sub-region', 'Income composition of resources', 'Schooling']]\n",
    "print(\"Updated values for 'Income composition of resources' and 'Schooling' for specified countries:\")\n",
    "print(updated_countries_data)\n"
   ]
  },
  {
   "cell_type": "code",
   "execution_count": 77,
   "metadata": {},
   "outputs": [
    {
     "name": "stdout",
     "output_type": "stream",
     "text": [
      "DataFrame shape after dropping 'Population' column: (2928, 20)\n"
     ]
    }
   ],
   "source": [
    "# Drop the 'Population' column\n",
    "merged_df.drop(columns=['Population'], inplace=True)\n",
    "\n",
    "# Display the updated DataFrame shape to verify\n",
    "print(f\"DataFrame shape after dropping 'Population' column: {merged_df.shape}\")"
   ]
  },
  {
   "cell_type": "code",
   "execution_count": 78,
   "metadata": {},
   "outputs": [
    {
     "name": "stdout",
     "output_type": "stream",
     "text": [
      "Null value counts per column:\n",
      "Country: 0\n",
      "Year: 0\n",
      "Status: 0\n",
      "Life expectancy: 0\n",
      "Adult Mortality: 0\n",
      "infant deaths: 0\n",
      "Alcohol: 0\n",
      "percentage expenditure: 0\n",
      "Measles: 0\n",
      "BMI: 0\n",
      "under-five deaths: 0\n",
      "Polio: 0\n",
      "Diphtheria: 0\n",
      "HIV/AIDS: 0\n",
      "thinness  1-19 years: 0\n",
      "thinness 5-9 years: 0\n",
      "Income composition of resources: 0\n",
      "Schooling: 0\n",
      "region: 0\n",
      "sub-region: 0\n"
     ]
    }
   ],
   "source": [
    "# Lets check our null values after cleaning \n",
    "null_counts = merged_df.isnull().sum()\n",
    "\n",
    "# Print column names and their respective null counts\n",
    "print(\"Null value counts per column:\")\n",
    "for column, count in null_counts.items():\n",
    "    print(f\"{column}: {count}\")"
   ]
  },
  {
   "cell_type": "code",
   "execution_count": 79,
   "metadata": {},
   "outputs": [
    {
     "name": "stdout",
     "output_type": "stream",
     "text": [
      "Cleaned DataFrame saved to Cleaned_Life_Expectancy_Data.csv\n"
     ]
    }
   ],
   "source": [
    "# Win!!! saving my updated clean data set \n",
    "output_file_path = 'Cleaned_Life_Expectancy_Data.csv'\n",
    "\n",
    "# Save the cleaned DataFrame to CSV\n",
    "merged_df.to_csv(output_file_path, index=False)\n",
    "\n",
    "# Confirm the file has been saved\n",
    "print(f\"Cleaned DataFrame saved to {output_file_path}\")"
   ]
  }
 ],
 "metadata": {
  "kernelspec": {
   "display_name": "Python 3",
   "language": "python",
   "name": "python3"
  },
  "language_info": {
   "codemirror_mode": {
    "name": "ipython",
    "version": 3
   },
   "file_extension": ".py",
   "mimetype": "text/x-python",
   "name": "python",
   "nbconvert_exporter": "python",
   "pygments_lexer": "ipython3",
   "version": "3.11.9"
  }
 },
 "nbformat": 4,
 "nbformat_minor": 2
}
